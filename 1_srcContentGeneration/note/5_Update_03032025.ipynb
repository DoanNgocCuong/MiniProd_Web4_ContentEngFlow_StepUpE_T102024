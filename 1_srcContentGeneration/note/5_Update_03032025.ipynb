{
 "cells": [
  {
   "cell_type": "markdown",
   "metadata": {},
   "source": [
    "```\n",
    "cường ơi, check lại giúp chị cái web gen câu hỏi của The Coach nha vì tháng này sắp mass produce tình huống cho dự án personalize nên muốn nhờ em check lại\n",
    "http://103.253.20.13:25007/\n",
    "\n",
    "1. Nghĩa tiếng Việt ở tab learning card / Flexible phrase vẫn đang để bot tự gen chứ chưa phải là lấy data từ các ô tiếng Việt đã được chị sửa ở phần Generated questions\n",
    "\n",
    "2. Clarify giúp chị là maximum bot có thể gen được bao nhiêu câu hỏi vì hôm trước chị thử 13 câu là nó tèo\n",
    "\n",
    "3. Thi thoảng bị lỗi code 500 khi gen Learning meaning, flexible phrase\n",
    "\n",
    "4. Phần Learning Meaning cần: \n",
    "   + bổ sung thêm câu hỏi về cấu trúc câu (như ảnh 2). Mỗi cụm cấu trúc trong bài sẽ có 1 câu hỏi, các đáp án nhiễu sẽ là câu ngược nghĩa hoặc phủ định của câu đúng\n",
    "   + Phần giải thích đáp án sai bị dài chỉ cần áp dụng đúng format này là được \n",
    "“<r>[English word]</r> mang nghĩa là \"[Nghĩa tiếng Việt]\" nên sai nghĩa so với yêu cầu của đề bài. “\n",
    "103.253.20.13\n",
    "```"
   ]
  },
  {
   "cell_type": "markdown",
   "metadata": {},
   "source": [
    "## 1. Nghĩa tiếng Việt ở tab learning card / Flexible phrase vẫn đang để bot tự gen chứ chưa phải là lấy data từ các ô tiếng Việt đã được chị sửa ở phần Generated questions\n"
   ]
  },
  {
   "cell_type": "markdown",
   "metadata": {},
   "source": [
    "Learning card này có cột: Sentence (VI) đang được lấy từ đâu thế nhỉ ??\n",
    "- Vì khi tôi sửa cột tiếng việt này ở bước trên \n",
    "- Xuống bước Sentence VI này ko thấy nó được sửa theo"
   ]
  },
  {
   "cell_type": "markdown",
   "metadata": {},
   "source": [
    "vậy bạn truyền thêm các tham số mới này (nó là output của quá trình @generateQuestion.js  trước đó +> Chuyển vào trng @learningCard.js "
   ]
  },
  {
   "cell_type": "markdown",
   "metadata": {},
   "source": [
    "Khi tiến hành sửa chữa output của bước Generatee Question. Thì kết quả mới này sẽ được đẩy đi để gen cho bước @learningCard.js "
   ]
  },
  {
   "cell_type": "markdown",
   "metadata": {},
   "source": [
    "Thế sao "
   ]
  }
 ],
 "metadata": {
  "language_info": {
   "name": "python"
  }
 },
 "nbformat": 4,
 "nbformat_minor": 2
}
