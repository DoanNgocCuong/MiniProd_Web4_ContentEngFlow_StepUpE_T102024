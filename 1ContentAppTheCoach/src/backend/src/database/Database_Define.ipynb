{
 "cells": [
  {
   "cell_type": "markdown",
   "metadata": {},
   "source": [
    "# Ý tưởng ban đầu: \n",
    "\n",
    "Về yêu cầu feedback - tracking:\n",
    "- Feedback: A mong muốn thêm 1 nút feedback, click vào sẽ show ra 1 dialog điền feedback và send. Lưu ở 1 bảng feedback content app the coach trên lark luôn\n",
    "- Tracking: Mỗi lần chị Nhung vào app em tạo 1 cái id random = UUID. Sau đó lưu số lần click delete, nội dung edit, số lần edit, nội dung edit cho 5 mục: Draft học liệu (câu hỏi), 4 dạng bài. Chiều đến a vẽ bảng cho. Bảng sẽ có 11 cột: ID, countDeleteDraft, contentDeleteDraft (Để là dạng string nối hết vào nhau),..."
   ]
  },
  {
   "cell_type": "markdown",
   "metadata": {},
   "source": [
    "# 2. \n",
    "Bảng Topic + 5 bảng này\n",
    "mỗi bảng trong 5 bảng thì có: Id, before, after (nếu mà xóa thì after = 0, còn chỉnh sửa thì after để JSON)"
   ]
  },
  {
   "cell_type": "markdown",
   "metadata": {},
   "source": []
  },
  {
   "cell_type": "markdown",
   "metadata": {},
   "source": [
    "# 3. Full Database"
   ]
  },
  {
   "cell_type": "markdown",
   "metadata": {},
   "source": [
    "Để theo dõi các hoạt động của người dùng như xóa và chỉnh sửa, bạn có thể thiết kế một bảng **UserActionsTracking** để ghi lại chi tiết về từng hành động. Bảng này sẽ giúp lưu lại thông tin ai đã thực hiện hành động nào, trên đối tượng nào và vào thời gian nào.\n",
    "\n",
    "### 6. **Bảng UserActionsTracking (Theo dõi hoạt động của người dùng)**\n",
    "   - Ghi lại các thao tác xóa, chỉnh sửa và các hành động khác trên dữ liệu.\n",
    "   - **Columns**:\n",
    "     - `action_id` (Primary Key, Integer, Auto Increment): Mã định danh cho mỗi hoạt động.\n",
    "     - `user_id` (Foreign Key, Integer): ID của người dùng thực hiện hành động (nếu có hệ thống quản lý người dùng).\n",
    "     - `action_type` (Varchar): Loại hành động (VD: “edit”, “delete”, “add”).\n",
    "     - `table_name` (Varchar): Tên bảng mà hành động được thực hiện (VD: `Lessons`, `Questions`).\n",
    "     - `record_id` (Integer): ID của dòng bản ghi bị ảnh hưởng (VD: `lesson_id`, `question_id`).\n",
    "     - `previous_data` (JSON hoặc Text): Dữ liệu trước khi thay đổi (chỉ lưu nếu là hành động chỉnh sửa).\n",
    "     - `new_data` (JSON hoặc Text): Dữ liệu sau khi thay đổi (nếu có).\n",
    "     - `timestamp` (Timestamp): Thời gian thực hiện hành động.\n",
    "\n",
    "### Ví dụ\n",
    "Khi người dùng chỉnh sửa một câu hỏi trong bảng `Questions`, dòng tương ứng trong `UserActionsTracking` sẽ chứa:\n",
    "- `action_type`: \"edit\"\n",
    "- `table_name`: \"Questions\"\n",
    "- `record_id`: ID của câu hỏi đã chỉnh sửa\n",
    "- `previous_data`: Dữ liệu cũ của câu hỏi\n",
    "- `new_data`: Dữ liệu mới sau khi chỉnh sửa\n",
    "- `timestamp`: Thời gian thực hiện hành động\n",
    "\n",
    "Bảng này giúp bạn theo dõi chi tiết các thao tác người dùng đã thực hiện trên dữ liệu, rất hữu ích cho việc kiểm tra, khôi phục dữ liệu và cải thiện bảo mật."
   ]
  },
  {
   "cell_type": "markdown",
   "metadata": {},
   "source": [
    "Để theo dõi các hoạt động của người dùng như xóa và chỉnh sửa, bạn có thể thiết kế một bảng **UserActionsTracking** để ghi lại chi tiết về từng hành động. Bảng này sẽ giúp lưu lại thông tin ai đã thực hiện hành động nào, trên đối tượng nào và vào thời gian nào.\n",
    "\n",
    "### 6. **Bảng UserActionsTracking (Theo dõi hoạt động của người dùng)**\n",
    "   - Ghi lại các thao tác xóa, chỉnh sửa và các hành động khác trên dữ liệu.\n",
    "   - **Columns**:\n",
    "     - `action_id` (Primary Key, Integer, Auto Increment): Mã định danh cho mỗi hoạt động.\n",
    "     - `user_id` (Foreign Key, Integer): ID của người dùng thực hiện hành động (nếu có hệ thống quản lý người dùng).\n",
    "     - `action_type` (Varchar): Loại hành động (VD: “edit”, “delete”, “add”).\n",
    "     - `table_name` (Varchar): Tên bảng mà hành động được thực hiện (VD: `Lessons`, `Questions`).\n",
    "     - `record_id` (Integer): ID của dòng bản ghi bị ảnh hưởng (VD: `lesson_id`, `question_id`).\n",
    "     - `previous_data` (JSON hoặc Text): Dữ liệu trước khi thay đổi (chỉ lưu nếu là hành động chỉnh sửa).\n",
    "     - `new_data` (JSON hoặc Text): Dữ liệu sau khi thay đổi (nếu có).\n",
    "     - `timestamp` (Timestamp): Thời gian thực hiện hành động.\n",
    "\n",
    "### Ví dụ\n",
    "Khi người dùng chỉnh sửa một câu hỏi trong bảng `Questions`, dòng tương ứng trong `UserActionsTracking` sẽ chứa:\n",
    "- `action_type`: \"edit\"\n",
    "- `table_name`: \"Questions\"\n",
    "- `record_id`: ID của câu hỏi đã chỉnh sửa\n",
    "- `previous_data`: Dữ liệu cũ của câu hỏi\n",
    "- `new_data`: Dữ liệu mới sau khi chỉnh sửa\n",
    "- `timestamp`: Thời gian thực hiện hành động\n",
    "\n",
    "Bảng này giúp bạn theo dõi chi tiết các thao tác người dùng đã thực hiện trên dữ liệu, rất hữu ích cho việc kiểm tra, khôi phục dữ liệu và cải thiện bảo mật."
   ]
  },
  {
   "cell_type": "markdown",
   "metadata": {},
   "source": [
    "Đúng như vậy, bạn hoàn toàn có thể theo dõi và quản lý quy trình này theo từng cấp độ ID để đảm bảo tính chính xác và minh bạch trong việc tạo, sửa và ghi nhận dữ liệu trong hệ thống. Quy trình này sẽ diễn ra như sau:\n",
    "\n",
    "1. **Bước 1: Tạo `lesson_id`**\n",
    "   - Bạn sẽ khởi tạo một bài học (`lesson`) với các thông tin như `topic`, `level`, `question_count`, `extra_requirements`.\n",
    "   - Sau khi lưu, bài học sẽ nhận được một `lesson_id` duy nhất để tham chiếu các thông tin liên quan.\n",
    "\n",
    "2. **Bước 2: Tạo `question_id` cho câu hỏi trong bài học**\n",
    "   - Với `lesson_id`, bạn có thể tạo nhiều câu hỏi liên quan, mỗi câu hỏi sẽ có một `question_id` duy nhất.\n",
    "   - Các câu hỏi sẽ được lưu trữ trong bảng `Questions`, với `lesson_id` đóng vai trò liên kết giữa `Lessons` và `Questions`.\n",
    "\n",
    "3. **Bước 3: Tạo `card_id` cho các thẻ học (Learning Cards)**\n",
    "   - Dựa trên `question_id`, khi bạn muốn tạo một thẻ học mới, hệ thống sẽ tạo ra một `card_id` mới cho từng thẻ học.\n",
    "   - Mỗi lần bạn chỉnh sửa nội dung câu hỏi và chạy lại quá trình tạo thẻ học, hệ thống sẽ tạo ra một `card_id` mới cho bản ghi đó, giúp bạn giữ lại lịch sử các lần chỉnh sửa.\n",
    "\n",
    "4. **Theo dõi phiên bản qua bảng `UserActionsTracking`**\n",
    "   - Khi bạn chỉnh sửa một `question_id` hoặc tạo mới `card_id` dựa trên câu hỏi đã thay đổi, hệ thống sẽ ghi lại hành động này trong bảng `UserActionsTracking`.\n",
    "   - Bảng này sẽ lưu cả `question_id` và `card_id` mỗi lần cập nhật, cho phép bạn theo dõi lịch sử các phiên bản đã tạo.\n",
    "\n",
    "Kết hợp quy trình này với bảng `UserActionsTracking`, bạn sẽ có một hệ thống có khả năng theo dõi chi tiết mọi thay đổi và các phiên bản mới của dữ liệu qua các lần cập nhật."
   ]
  },
  {
   "cell_type": "markdown",
   "metadata": {},
   "source": [
    "# 4. Quay lại xem Mục tiêu? \n",
    "\n",
    "\n",
    "- có 2 mục đích: 1 là để định lượng cái impact của sản phẩm này. Vdu như chị Nhung 1 tuần tạo content 20-30 lần, impact quá cao\n",
    "- 2 là để lấy data tối ưu prompt + trải nghiệm\n",
    "- vdu chắc chắn 1 draft học liệu sẽ gen kèm 4 dạng bài, vậy mà sau 1 tgian số lượng bài learning card ít hơn các bài còn lại\n",
    "\n",
    "Cường đề xuất: \n",
    "- Bảng Lessons: lesson_id, input JSON, output JSON, create_or_fix\n",
    "example: 1, {\"topic\": \"A\", \"level\": \"B1\", \"question_count\": 10, \"extra_requirements\": \"C\"}, (Dictionary JSON), create\n",
    "\n",
    "- Bảng Fix Questions (from Lessons): question_id, lesson_id, input, output, \n",
    "question_id = 1, lần lượt là 1 câu hỏi trong bảng Lessons, input là question lúc trước, output là question lúc sau, create_or_fix = fix \n",
    "\n",
    "Sau khi user update question, data sẽ được cập nhật vào trong bảng Lessons ở dạng \n",
    "lesson_id mới, input JSON cũ, output là JSON mới, ....\n",
    "\n",
    "Tương tự với các bảng còn lại : \n",
    "\n",
    "\n"
   ]
  },
  {
   "cell_type": "markdown",
   "metadata": {},
   "source": [
    "# 5. Now\n",
    "```\n",
    "lesson_id, input, raw, final\n",
    "\n",
    "question_id, lesson_id, input, raw, final\n",
    "\n",
    "meaning_id, lesson_id, input, raw, final\n",
    "\n",
    "card_id, question_id, input, raw, final\n",
    "\n",
    "flexible_id, meaning_id, input, raw, final\n",
    "\n",
    "qna_id, card_id, input, raw, final\n",
    "```"
   ]
  }
 ],
 "metadata": {
  "language_info": {
   "name": "python"
  }
 },
 "nbformat": 4,
 "nbformat_minor": 2
}
