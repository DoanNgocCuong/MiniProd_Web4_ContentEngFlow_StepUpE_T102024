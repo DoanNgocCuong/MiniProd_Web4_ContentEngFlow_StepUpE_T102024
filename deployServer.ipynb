{
 "cells": [
  {
   "cell_type": "markdown",
   "metadata": {},
   "source": [
    "Dưới đây là bảng tổng hợp các nền tảng cloud miễn phí cho sinh viên để deploy server:\n",
    "\n",
    "| Nền Tảng                | Gói Miễn Phí hoặc Ưu Đãi Sinh Viên                                                                                            | URL                                                    |\n",
    "|-------------------------|------------------------------------------------------------------------------------------------------------------------------|--------------------------------------------------------|\n",
    "| **AWS (Amazon Web Services)** | AWS Free Tier: EC2 t2.micro miễn phí 750 giờ/tháng trong năm đầu. GitHub Student Pack: 100 đô la tín dụng.          | [AWS Free Tier](https://aws.amazon.com/free/)          |\n",
    "| **Microsoft Azure**     | Azure for Students: 100 đô la tín dụng mỗi năm cho sinh viên, không yêu cầu thẻ tín dụng khi đăng ký.                       | [Azure for Students](https://azure.microsoft.com/en-us/free/students/) |\n",
    "| **Google Cloud Platform (GCP)** | GCP Free Tier: f1-micro miễn phí vĩnh viễn trong giới hạn vùng. GCP for Students: 300 đô la tín dụng trong 90 ngày. | [GCP Free Tier](https://cloud.google.com/free)         |\n",
    "| **IBM Cloud**           | IBM Cloud for Students: 200 đô la tín dụng, dịch vụ máy ảo, Kubernetes, NoSQL miễn phí.                                      | [IBM Cloud for Students](https://www.ibm.com/cloud/free) |\n",
    "| **Oracle Cloud**        | Oracle Free Tier: 2 máy ảo với cấu hình tối thiểu miễn phí vĩnh viễn. GitHub Student Pack: dịch vụ nâng cấp cho sinh viên. | [Oracle Cloud Free Tier](https://www.oracle.com/cloud/free/) |\n",
    "| **DigitalOcean**        | 100 đô la tín dụng trong 60 ngày qua GitHub Student Pack, dùng để tạo Droplets và dịch vụ khác.                             | [DigitalOcean for Students](https://www.digitalocean.com/students/) |\n",
    "| **Heroku**              | Heroku Free: dyno miễn phí cho các ứng dụng web. GitHub Student Pack: tính năng nâng cấp miễn phí cho sinh viên.           | [Heroku](https://www.heroku.com/)                      |\n",
    "| **GitHub Student Developer Pack** | Truy cập vào nhiều nền tảng cung cấp tín dụng miễn phí hoặc tính năng cao cấp cho sinh viên.                              | [GitHub Student Developer Pack](https://education.github.com/pack) |\n",
    "\n",
    "Các nền tảng này yêu cầu xác thực sinh viên qua email .edu hoặc thẻ sinh viên và cung cấp môi trường học tập, thử nghiệm phong phú."
   ]
  },
  {
   "cell_type": "markdown",
   "metadata": {},
   "source": [
    "Dưới đây là một số dịch vụ cung cấp hosting hoặc server miễn phí cho sinh viên có trong GitHub Student Developer Pack:\n",
    "\n",
    "| Dịch vụ          | Mô tả                                                                                       | Ưu đãi miễn phí khi là sinh viên                                       |\n",
    "|------------------|---------------------------------------------------------------------------------------------|------------------------------------------------------------------------|\n",
    "| **GitHub Pages** | Hosting miễn phí cho các trang tĩnh, thích hợp để lưu trữ các dự án nhỏ hoặc trang cá nhân. | Hosting miễn phí một trang cá nhân và không giới hạn các trang dự án.   |\n",
    "| **Heroku**       | Nền tảng để deploy và quản lý ứng dụng dễ sử dụng, hỗ trợ backend và front-end.             | Tín dụng $13/tháng miễn phí trong 24 tháng (2 năm) khi dùng GitHub Pack. |\n",
    "| **DigitalOcean** | Hosting đám mây với tài nguyên linh hoạt, hỗ trợ các nền tảng cloud computing.              | $200 tín dụng trong 1 năm để sử dụng các dịch vụ cloud.                |\n",
    "| **Microsoft Azure** | Cloud computing mạnh mẽ với nhiều dịch vụ cho các ứng dụng web và mobile.             | Miễn phí 25+ dịch vụ Azure + $100 tín dụng mỗi năm khi kết nối GitHub. |\n",
    "| **AWS (Amazon Web Services)** | Nền tảng cloud hàng đầu với khả năng mở rộng linh hoạt.                  | $100 tín dụng cho sinh viên thông qua GitHub Pack.                     |\n",
    "| **Oracle Cloud** | Cung cấp dịch vụ đám mây với máy ảo và cơ sở dữ liệu.                                      | Miễn phí vĩnh viễn 2 instance máy ảo cấu hình thấp và một số dịch vụ khác. |\n",
    "| **Render**       | Hosting backend và database server cho các ứng dụng.                                        | Miễn phí các dịch vụ cơ bản, bao gồm static site và web service nhỏ.     |\n",
    "\n",
    "Các dịch vụ này sẽ yêu cầu liên kết tài khoản với GitHub Student Developer Pack để xác thực quyền lợi sinh viên."
   ]
  },
  {
   "cell_type": "markdown",
   "metadata": {},
   "source": [
    "https://www.awseducate.com/\n",
    "\n",
    "Với tài khoản AWS Educate, sinh viên sẽ có quyền truy cập vào các khóa học miễn phí về các kỹ năng điện toán đám mây và có thể thực hành trên **AWS Console** qua các labs mà không cần thẻ tín dụng【6†source】【9†source】. Tuy nhiên, chương trình **AWS Educate miễn phí không cung cấp máy chủ (server)** để triển khai dài hạn, vì mục đích chính là học tập thông qua các bài labs và mô phỏng ngắn hạn trên các dịch vụ AWS, như EC2 hoặc S3, trong môi trường sandbox giới hạn về thời gian và tài nguyên.\n",
    "\n",
    "Nếu bạn muốn triển khai server thực tế và lâu dài, bạn sẽ cần tạo tài khoản AWS thông thường và có thể tận dụng **AWS Free Tier**. Gói Free Tier này cho phép người dùng miễn phí sử dụng các dịch vụ AWS như **EC2** trong 12 tháng đầu với giới hạn nhất định về tài nguyên【8†source】."
   ]
  },
  {
   "cell_type": "markdown",
   "metadata": {},
   "source": []
  }
 ],
 "metadata": {
  "language_info": {
   "name": "python"
  }
 },
 "nbformat": 4,
 "nbformat_minor": 2
}
