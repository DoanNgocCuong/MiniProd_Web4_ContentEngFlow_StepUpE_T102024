{
 "cells": [
  {
   "cell_type": "markdown",
   "metadata": {},
   "source": [
    "```bash\n",
    "curl --location 'http://localhost:3000/api/generate-learning-phrase-qna' \\\n",
    "--header 'Content-Type: application/json' \\\n",
    "--data '{\"lessons\": [{\"structure\": \"My greatest weakness is lack of _______.\", \"main phrase\": \"English skills\", \"optional phrase 1\": \"flexibility\", \"optional phrase 2\": \"confidence\"}]}'\n",
    "\n",
    "```"
   ]
  },
  {
   "cell_type": "code",
   "execution_count": null,
   "metadata": {},
   "outputs": [],
   "source": []
  }
 ],
 "metadata": {
  "language_info": {
   "name": "python"
  }
 },
 "nbformat": 4,
 "nbformat_minor": 2
}
