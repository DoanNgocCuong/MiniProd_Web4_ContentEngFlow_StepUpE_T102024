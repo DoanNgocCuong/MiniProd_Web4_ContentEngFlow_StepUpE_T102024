{
 "cells": [
  {
   "cell_type": "markdown",
   "metadata": {},
   "source": [
    "```bash\n",
    "curl --location 'http://localhost:3000/api/generate-learning-card' \\\n",
    "--header 'Content-Type: application/json' \\\n",
    "--data '{\"lessons\": [{\"main phrase\": \"test phrase\", \"optional phrase 1\": \"test optional 1\", \"optional phrase 2\": \"test optional 2\"}]}'\n",
    "```"
   ]
  },
  {
   "cell_type": "markdown",
   "metadata": {},
   "source": [
    "curl -X POST http://localhost:3000/api/generate-learning-phrase-qna -H \"Content-Type: application/json\" -d '{\"lessons\": [{\"structure\": \"My greatest weakness is lack of _______.\", \"main phrase\": \"English skills\", \"optional phrase 1\": \"flexibility\", \"optional phrase 2\": \"confidence\"}]}'\n"
   ]
  }
 ],
 "metadata": {
  "language_info": {
   "name": "python"
  }
 },
 "nbformat": 4,
 "nbformat_minor": 2
}
