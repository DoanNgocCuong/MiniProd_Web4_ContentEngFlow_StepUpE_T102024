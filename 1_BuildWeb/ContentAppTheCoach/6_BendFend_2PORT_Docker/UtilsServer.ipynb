{
 "cells": [
  {
   "cell_type": "markdown",
   "metadata": {},
   "source": [
    "Dưới đây là bảng tóm tắt các công cụ và dịch vụ miễn phí cho Docker, Cloud (PaaS, VPS) và Kubernetes:\n",
    "\n",
    "| **Công cụ / Dịch vụ**           | **Loại**                 | **Gói Miễn Phí / Hạn Chế**                                                                                                                                               |\n",
    "|---------------------------------|--------------------------|--------------------------------------------------------------------------------------------------------------------------------------------------------------------------|\n",
    "| **Docker Desktop**              | Docker                   | Miễn phí cho cá nhân và doanh nghiệp nhỏ.                                                                                                                                |\n",
    "| **Docker Hub**                  | Docker                   | Miễn phí cho public repositories (có giới hạn pull rate), private repositories yêu cầu gói trả phí.                                                                      |\n",
    "| **Heroku**                      | PaaS                     | Miễn phí với dyno (container nhỏ), hibernation sau 30 phút không có traffic.                                                                                             |\n",
    "| **Vercel**                      | PaaS                     | Miễn phí cho các dự án frontend, tự động scaling, có giới hạn tính năng cho doanh nghiệp.                                                                                |\n",
    "| **Render**                      | PaaS                     | Miễn phí cho Web Service và Static Site, tự động dừng khi không có traffic trong một khoảng thời gian.                                                                   |\n",
    "| **AWS Free Tier**               | VPS                      | Miễn phí 750 giờ EC2 (cấu hình thấp) trong 12 tháng đầu tiên.                                                                                                            |\n",
    "| **Google Cloud Free Tier**      | VPS                      | Miễn phí 1 f1-micro instance (VPS cấu hình thấp) cho khách hàng mới.                                                                                                     |\n",
    "| **Azure Free Account**          | VPS                      | Miễn phí 750 giờ B1S VM (VPS cấu hình thấp) trong 12 tháng đầu tiên.                                                                                                     |\n",
    "| **Oracle Cloud**                | VPS                      | Miễn phí một số VPS cấu hình thấp và cơ sở dữ liệu, không giới hạn thời gian.                                                                                             |\n",
    "| **Minikube**                    | Kubernetes               | Chạy Kubernetes trên máy cục bộ, miễn phí hoàn toàn, phù hợp cho mục đích thử nghiệm.                                                                                    |\n",
    "| **Google Kubernetes Engine (GKE) Autopilot** | Kubernetes               | Miễn phí 1 cluster nhỏ (tối đa 2 vCPU, 1 GB RAM) cho khách hàng mới (có thời gian giới hạn).                                                                             |\n",
    "| **Azure Kubernetes Service (AKS)** | Kubernetes               | Miễn phí phần control plane (quản lý cụm) cho cluster nhỏ; trả phí cho tài nguyên node (VM).                                                                             |\n",
    "| **AWS Elastic Kubernetes Service (EKS)** | Kubernetes               | Không có control plane miễn phí, nhưng có thể dùng Free Tier của EC2 để chạy node cho Kubernetes.                                                                        |\n",
    "\n",
    "Bảng này sẽ giúp bạn chọn dịch vụ phù hợp với nhu cầu triển khai và phát triển ứng dụng mà không cần lo chi phí ban đầu."
   ]
  }
 ],
 "metadata": {
  "language_info": {
   "name": "python"
  }
 },
 "nbformat": 4,
 "nbformat_minor": 2
}
