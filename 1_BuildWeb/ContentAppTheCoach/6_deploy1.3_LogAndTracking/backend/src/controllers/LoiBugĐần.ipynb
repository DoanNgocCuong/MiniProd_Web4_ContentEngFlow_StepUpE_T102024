{
 "cells": [
  {
   "cell_type": "markdown",
   "metadata": {},
   "source": [
    "- KO SỬA `NODE_ENV=production` sang `NODE_ENV=development` => Frontend gọi tới API của backend trên server ko phải của local -))\n",
    "- bảo sao `npm run dev` lại ko thấy phản hồi trên terminal"
   ]
  },
  {
   "cell_type": "code",
   "execution_count": null,
   "metadata": {},
   "outputs": [],
   "source": []
  }
 ],
 "metadata": {
  "language_info": {
   "name": "python"
  }
 },
 "nbformat": 4,
 "nbformat_minor": 2
}
