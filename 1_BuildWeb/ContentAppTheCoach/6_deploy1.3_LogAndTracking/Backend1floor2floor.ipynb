{
 "cells": [
  {
   "cell_type": "markdown",
   "metadata": {},
   "source": [
    "Cấu trúc hai tầng trong backend có thể hiểu như sau:\n",
    "\n",
    "1. **Tầng 1: API Layer (Tầng giao tiếp API)**  \n",
    "   - Đây là tầng chịu trách nhiệm giao tiếp với frontend hoặc bất kỳ client nào khác. Tầng này sẽ nhận các request từ frontend (như request từ hệ thống chấm điểm tự động) và gọi các API cần thiết.\n",
    "   - Các API ở tầng này sẽ chịu trách nhiệm xử lý các yêu cầu đơn giản, chẳng hạn lấy dữ liệu từ database hoặc trả về các thông tin cần thiết cho frontend.\n",
    "   - Ví dụ trong hệ thống chấm điểm, tầng này có thể nhận dữ liệu của bài kiểm tra từ frontend, sau đó gửi đến tầng 2 để xử lý logic chấm điểm.\n",
    "\n",
    "2. **Tầng 2: Business Logic Layer (Tầng xử lý logic)**  \n",
    "   - Đây là tầng chứa toàn bộ logic chấm điểm, tức là phần xử lý phức tạp liên quan đến việc tính toán, kiểm tra đáp án, tính điểm, hay bất kỳ logic kinh doanh nào khác.\n",
    "   - Tầng này không tương tác trực tiếp với client, mà chỉ được gọi qua tầng 1. Nó sẽ xử lý dữ liệu mà API gửi đến và sau đó trả kết quả về cho tầng API để đưa ra frontend.\n",
    "   - Trong hệ thống chấm điểm, tầng này sẽ tính toán điểm số dựa trên đáp án đã gửi lên, so sánh với đáp án đúng, và xử lý các quy tắc chấm điểm cụ thể.\n",
    "\n",
    "**Frontend** sẽ chỉ hiển thị kết quả chấm điểm mà API tầng 1 đã trả về, giúp người dùng xem điểm số hoặc phân tích kết quả của bài kiểm tra.\n",
    "\n",
    "### Ví dụ\n",
    "- **Frontend**: Gửi yêu cầu chấm điểm bài kiểm tra, hiển thị kết quả.\n",
    "- **Backend Tầng 1**: Nhận request từ frontend, gọi các API từ tầng 2 để thực hiện chấm điểm.\n",
    "- **Backend Tầng 2**: Xử lý logic chấm điểm, tính toán điểm số, trả về kết quả đã tính toán."
   ]
  }
 ],
 "metadata": {
  "language_info": {
   "name": "python"
  }
 },
 "nbformat": 4,
 "nbformat_minor": 2
}
