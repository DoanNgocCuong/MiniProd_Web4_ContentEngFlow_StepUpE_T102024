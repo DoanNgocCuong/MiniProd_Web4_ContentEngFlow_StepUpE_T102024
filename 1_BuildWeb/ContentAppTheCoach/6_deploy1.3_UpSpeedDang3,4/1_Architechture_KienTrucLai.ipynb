{
 "cells": [
  {
   "cell_type": "markdown",
   "metadata": {},
   "source": [
    "Kiến trúc Version trước đó\n",
    "\n",
    "```bash\n",
    "project/\n",
    "├── backend/\n",
    "│   ├── src/\n",
    "│   │   ├── controllers/\n",
    "│   │   │   ├── generateQuestionsController.js\n",
    "│   │   │   ├── generateLearningMeaningController.js\n",
    "│   │   │   ├── generateLearningCardController.js\n",
    "│   │   │   ├── generateLearningFlexibleController.js\n",
    "│   │   │   └── generateLearningQNAController.js\n",
    "│   │   ├── routes/\n",
    "│   │   │   └── index.js\n",
    "│   │   ├── database/\n",
    "│   │   │   ├── Database_Define.ipynb\n",
    "│   │   │   └── LinkTracking.md\n",
    "│   │   └── server.js\n",
    "│   ├── Dockerfile\n",
    "│   └── package.json\n",
    "│\n",
    "├── frontend/\n",
    "│   ├── src/\n",
    "│   │   ├── js/\n",
    "│   │   │   ├── modules/\n",
    "│   │   │   │   ├── learningMeaning.js\n",
    "│   │   │   │   ├── learningCard.js\n",
    "│   │   │   │   ├── learningFlexible.js\n",
    "│   │   │   │   └── learningQNA.js\n",
    "│   │   │   ├── config.js\n",
    "│   │   │   ├── feedback.js\n",
    "│   │   │   ├── generateQuestion.js\n",
    "│   │   │   ├── scripts.js\n",
    "│   │   │   └── utils.js\n",
    "│   │   ├── css/\n",
    "│   │   │   └── styles.css\n",
    "│   │   └── index.html\n",
    "│   └── Dockerfile\n",
    "```\n",
    "\n",
    "\n",
    "Được rồi, dưới đây là bảng tóm tắt chi tiết về **Routes**, **Controllers**, và **Services** trong ứng dụng web, được giải thích đơn giản cho học sinh cấp 2:\n",
    "\n",
    "---\n",
    "\n",
    "### **Bảng tóm tắt**\n",
    "\n",
    "| **Thành phần**     | **Ví dụ đời thường**                                       | **Vai trò trong ứng dụng web**                                                          |\n",
    "|--------------------|------------------------------------------------------------|-----------------------------------------------------------------------------------------|\n",
    "| **Routes (Đường dẫn)**       | **Cửa ra vào của nhà hàng**                                  | - Định nghĩa các địa chỉ (URL) mà người dùng truy cập.<br>- Chuyển yêu cầu của người dùng đến **Controller** phù hợp. |\n",
    "| **Controller (Người phục vụ)** | **Nhân viên phục vụ nhận gọi món từ khách hàng**              | - Nhận yêu cầu từ người dùng qua **Routes**.<br>- Hiểu người dùng muốn gì và quyết định cần làm gì.<br>- Gọi **Service** để thực hiện công việc chính.<br>- Trả kết quả lại cho người dùng. |\n",
    "| **Service (Nhà bếp)**        | **Đầu bếp trong nhà bếp nấu món ăn theo yêu cầu**             | - Thực hiện công việc chính (xử lý dữ liệu, tính toán).<br>- Tương tác với cơ sở dữ liệu hoặc dịch vụ bên ngoài.<br>- Trả kết quả về cho **Controller** sau khi hoàn thành. |\n"
   ]
  },
  {
   "cell_type": "markdown",
   "metadata": {},
   "source": [
    "# 1. Log Feedback "
   ]
  },
  {
   "cell_type": "markdown",
   "metadata": {},
   "source": [
    "Các file liên quan: script.js, index.html, generateQuestion.js\n"
   ]
  },
  {
   "cell_type": "markdown",
   "metadata": {},
   "source": [
    "- Mỗi lần generate-btn được nhấn là 1 lần tạo bộ bài học  => gán với 1 lesson_id\n",
    "- Khi vẫn đang ở lesson_id, người dùng nhấn vào feedback, điền feedback, sau đó ấn \"Send Feedback\"\n",
    "\n",
    "=> Khi đó hệ thống sẽ gửi 1 API đến \n",
    "```bash\n",
    "{\n",
    "    \"config\": {\n",
    "        \"app_id\": \"cli_a7848edc6b7a9010\",\n",
    "        \"app_secret\": \"V2wW8BTa4BrKxCf674vHYfDBvDoA2XWk\",\n",
    "        \"app_base_token\": \"HTJ6bPPPfaelL5sKDVglGHHOgCg\",\n",
    "        \"base_table_id\": \"tblpgKokUDFf7cFn\"\n",
    "    },\n",
    "    \"records\": [\n",
    "        {\n",
    "            \"fields\": {\n",
    "                \"lesson_id\": \"Example Text 1\", \n",
    "                \"feedback\": \"\"\n",
    "            }\n",
    "        },\n",
    "        {\n",
    "            \"fields\": {\n",
    "                \"lesson_id\": \"Example Text 2\",\n",
    "                \"feedback\": \"\"\n",
    "            }\n",
    "        }\n",
    "    ]\n",
    "}\n",
    "```\n",
    "ĐỂ LƯU FEEDBACK VÀO LARKBASE "
   ]
  }
 ],
 "metadata": {
  "language_info": {
   "name": "python"
  }
 },
 "nbformat": 4,
 "nbformat_minor": 2
}
