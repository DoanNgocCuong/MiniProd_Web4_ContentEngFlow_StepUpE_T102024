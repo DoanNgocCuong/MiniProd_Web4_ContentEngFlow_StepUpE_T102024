{
 "cells": [
  {
   "cell_type": "markdown",
   "metadata": {},
   "source": [
    "\n",
    "Ví dụ Log bản đầu: \n",
    "\n",
    "_i_ch_i_m_0158_01112024\t\n",
    "input\n",
    "\n",
    "{\"topic\":\"Đi chơi đêm\",\"level\":\"Below A1\",\"questionCount\":\"3\",\"extraRequirements\":\"\"}\t\n",
    "\n",
    "raw\n",
    "[{\"question\":\"What do you like to do at night?\",\"structure\":\"I like to go ____ at night.\",\"main phrase\":\"for a walk\",\"optional phrase 1\":\"to the park\",\"optional phrase 2\":\"to the movies\",\"question-vi\":\"Bạn thích làm gì vào ban đêm?\",\"structure-vi\":\"Tôi thích đi ____ vào ban đêm.\",\"main phrase-vi\":\"đi dạo\",\"optional phrase 1-vi\":\"đến công viên\",\"optional phrase 2-vi\":\"đến rạp chiếu phim\"},{\"question\":\"Where do you want to go tonight?\",\"structure\":\"I want to go ____ tonight.\",\"main phrase\":\"to the beach\",\"optional phrase 1\":\"to a restaurant\",\"optional phrase 2\":\"to a party\",\"question-vi\":\"Bạn muốn đi đâu tối nay?\",\"structure-vi\":\"Tôi muốn đi ____ tối nay.\",\"main phrase-vi\":\"đến bãi biển\",\"optional phrase 1-vi\":\"đến nhà hàng\",\"optional phrase 2-vi\":\"đến bữa tiệc\"},{\"question\":\"Who do you go out with at night?\",\"structure\":\"I go out with my ____ at night.\",\"main phrase\":\"friends\",\"optional phrase 1\":\"family\",\"optional phrase 2\":\"classmates\",\"question-vi\":\"Bạn đi chơi với ai vào ban đêm?\",\"structure-vi\":\"Tôi đi chơi với ____ vào ban đêm.\",\"main phrase-vi\":\"bạn bè\",\"optional phrase 1-vi\":\"gia đình\",\"optional phrase 2-vi\":\"bạn học\"}]\n",
    "\n",
    "final\n",
    "[{\"question\":\"Who do you go out with at night?\",\"structure\":\"I go out with my ____ at night.\",\"main phrase\":\"friends\",\"optional phrase 1\":\"family\",\"optional phrase 2\":\"classmates\",\"question-vi\":\"Bạn đi chơi với ai vào ban đêm?\",\"structure-vi\":\"Tôi đi chơi với ____ vào ban đêm.\",\"main phrase-vi\":\"bạn bè\",\"optional phrase 1-vi\":\"gia đình\",\"optional phrase 2-vi\":\"bạn học\"}]\n"
   ]
  },
  {
   "cell_type": "code",
   "execution_count": null,
   "metadata": {},
   "outputs": [],
   "source": []
  }
 ],
 "metadata": {
  "language_info": {
   "name": "python"
  }
 },
 "nbformat": 4,
 "nbformat_minor": 2
}
