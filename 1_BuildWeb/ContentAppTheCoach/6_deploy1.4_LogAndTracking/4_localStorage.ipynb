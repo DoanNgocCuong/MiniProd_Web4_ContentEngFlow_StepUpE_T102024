{
 "cells": [
  {
   "cell_type": "markdown",
   "metadata": {},
   "source": [
    "Bật tính năng lưu tạm thời cho những phần đã gen khi gọi hàm generate của @learningQNA.js @learningMeaning.js @learningCard.js @learningFlexible.js \n",
    "------------\n",
    "tôi nghĩ là nên làm 1 file .js riêng cùng cấp với các file này"
   ]
  },
  {
   "cell_type": "code",
   "execution_count": null,
   "metadata": {},
   "outputs": [],
   "source": []
  }
 ],
 "metadata": {
  "language_info": {
   "name": "python"
  }
 },
 "nbformat": 4,
 "nbformat_minor": 2
}
