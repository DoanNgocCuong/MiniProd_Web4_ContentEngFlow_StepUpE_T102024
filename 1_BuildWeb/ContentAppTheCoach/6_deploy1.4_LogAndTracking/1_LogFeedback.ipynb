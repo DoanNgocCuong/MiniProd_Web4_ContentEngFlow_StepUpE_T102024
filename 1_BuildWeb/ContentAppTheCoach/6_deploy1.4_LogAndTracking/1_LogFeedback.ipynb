{
 "cells": [
  {
   "cell_type": "markdown",
   "metadata": {},
   "source": [
    "# 0. Cấu trúc code hiện tại "
   ]
  },
  {
   "cell_type": "markdown",
   "metadata": {},
   "source": [
    "```bash\n",
    "project/\n",
    "├── backend/\n",
    "│   ├── src/\n",
    "│   │   ├── controllers/\n",
    "│   │   │   ├── generateQuestionsController.js\n",
    "│   │   │   ├── generateLearningMeaningController.js\n",
    "│   │   │   ├── generateLearningCardController.js\n",
    "│   │   │   ├── generateLearningFlexibleController.js\n",
    "│   │   │   └── generateLearningQNAController.js\n",
    "│   │   ├── routes/\n",
    "│   │   │   └── index.js\n",
    "│   │   ├── database/\n",
    "│   │   │   ├── Database_Define.ipynb\n",
    "│   │   │   └── LinkTracking.md\n",
    "│   │   └── server.js\n",
    "│   ├── Dockerfile\n",
    "│   └── package.json\n",
    "│\n",
    "├── frontend/\n",
    "│   ├── src/\n",
    "│   │   ├── js/\n",
    "│   │   │   ├── modules/\n",
    "│   │   │   │   ├── learningMeaning.js\n",
    "│   │   │   │   ├── learningCard.js\n",
    "│   │   │   │   ├── learningFlexible.js\n",
    "│   │   │   │   └── learningQNA.js\n",
    "│   │   │   ├── config.js\n",
    "│   │   │   ├── feedback.js\n",
    "│   │   │   ├── generateQuestion.js\n",
    "│   │   │   ├── scripts.js\n",
    "│   │   │   └── utils.js\n",
    "│   │   ├── css/\n",
    "│   │   │   └── styles.css\n",
    "│   │   └── index.html\n",
    "│   └── Dockerfile\n",
    "```"
   ]
  },
  {
   "cell_type": "markdown",
   "metadata": {},
   "source": [
    "# 1. Log Feedback  - CLAUDE SONNET BẢN WEB"
   ]
  },
  {
   "cell_type": "markdown",
   "metadata": {},
   "source": [
    "## 1.1 Viết feedbackController.js\n",
    "\n",
    "viết feedbackController.js\n",
    "```bash\n",
    "curl --location 'http://103.253.20.13:25033/api/larkbase/create-many-records' \\\n",
    "--header 'Content-Type: application/json' \\\n",
    "--data '{\n",
    "    \"config\": {\n",
    "        \"app_id\": \"cli_a7852e8dc6fc5010\",\n",
    "        \"app_secret\": \"6SIj0RfQ0ZwROvUhkjAwLebhLfJkIwnT\",\n",
    "        \"app_base_token\": \"OBlcw8wcPi8a8ukpj2YlwpZ1ggc\",\n",
    "        \"base_table_id\": \"tblCqnt9EHukSRnv\"\n",
    "    },\n",
    "    \"records\": [\n",
    "        {\n",
    "            \"fields\": {\n",
    "                \"lesson_id\": \"Test User 1\",\n",
    "                \"feedback\": \"feedback1\"\n",
    "            }\n",
    "        },\n",
    "        {\n",
    "            \"fields\": {\n",
    "                \"lesson_id\": \"Test User 2\",\n",
    "                \"feedback\": \"feedback2\"\n",
    "            }\n",
    "        }\n",
    "    ]\n",
    "}'\n",
    "```\n"
   ]
  },
  {
   "cell_type": "markdown",
   "metadata": {},
   "source": [
    "# 1.2 Connect backend/src/controller/feedbackController, backend/src/routes/index.js, backend/src/scripts.js, \n",
    "\n",
    "với frontend/src/js/script.js và frontend/src/index.html\n",
    "\n",
    "Các file liên quan: script.js, index.html, generateQuestion.js\n",
    "\n",
    "\n",
    "- Mỗi lần generate-btn được nhấn là 1 lần tạo bộ bài học  => gán với 1 lesson_id\n",
    "- Khi vẫn đang ở lesson_id, người dùng nhấn vào feedback, điền feedback, sau đó ấn \"Send Feedback\"\n",
    "\n",
    "\n",
    "Tóm lại bạn đã sửa những gì TỪ ĐẦU ĐẾN GIỜ, để lấy lesson_id khi người dùng ấn tạo bài học, lưu tạm vào biến hay gì đó\n",
    "\n",
    "Khi người dùng ấn Submit Feedback thì bạn lưu \n",
    "\n",
    "lesson_id, feedback => truyền vào feedbackController.js để gửi tới Larkbase tại địa chỉ: http://103.253.20.13:25033/api/larkbase/create-many-records\n",
    "\n",
    "-------\n",
    "\n",
    "Cho tôi các phần code bạn đã thêm/sửa để làm điều này"
   ]
  },
  {
   "cell_type": "markdown",
   "metadata": {},
   "source": [
    "```bash\n",
    "project/\n",
    "├── backend/\n",
    "│   ├── src/\n",
    "│   │   ├── controllers/\n",
    "│   │   │   ├── generateQuestionsController.js\n",
    "│   │   │   ├── generateLearningMeaningController.js\n",
    "│   │   │   ├── generateLearningCardController.js\n",
    "│   │   │   ├── generateLearningFlexibleController.js\n",
    "│   │   │   └── generateLearningQNAController.js\n",
    "│   │   │   └── feedbackController.js\n",
    "│   │   ├── routes/\n",
    "│   │   │   └── index.js\n",
    "│   │   ├── database/\n",
    "│   │   │   ├── Database_Define.ipynb\n",
    "│   │   │   └── LinkTracking.md\n",
    "│   │   └── server.js\n",
    "│   ├── Dockerfile\n",
    "│   └── package.json\n",
    "│\n",
    "├── frontend/\n",
    "│   ├── src/\n",
    "│   │   ├── js/\n",
    "│   │   │   ├── modules/\n",
    "│   │   │   │   ├── learningMeaning.js\n",
    "│   │   │   │   ├── learningCard.js\n",
    "│   │   │   │   ├── learningFlexible.js\n",
    "│   │   │   │   └── learningQNA.js\n",
    "│   │   │   ├── config.js\n",
    "│   │   │   ├── feedback.js\n",
    "│   │   │   ├── generateQuestion.js\n",
    "│   │   │   ├── scripts.js\n",
    "│   │   │   └── utils.js\n",
    "│   │   ├── css/\n",
    "│   │   │   └── styles.css\n",
    "│   │   └── index.html\n",
    "│   └── Dockerfile\n",
    "|---docker-compose.yml    \n",
    "```\n",
    "\n"
   ]
  },
  {
   "cell_type": "markdown",
   "metadata": {},
   "source": [
    "\n",
    "- ping thử feedback.js và feedbackController.js tới Larkbase => Bug\n",
    "- @feedback.js @feedbackController.js . \n",
    "Chỉ log feedback vào larkbase, ko cần lesson_id\n",
    "- Bỏ hoàn toàn Validate của Feedback"
   ]
  },
  {
   "cell_type": "markdown",
   "metadata": {},
   "source": [
    "```\n",
    "Khi gặp lỗi 400, nghĩa là request không đúng format. Qua logs ta sẽ biết chính xác ở bước nào bị lỗi:\n",
    "\n",
    "Frontend gửi sai data?\n",
    "Backend validate lỗi?\n",
    "Lark API trả về lỗi?\n",
    "```"
   ]
  },
  {
   "cell_type": "markdown",
   "metadata": {},
   "source": [
    "faviconV2:1 \n",
    " \n",
    " GET https://t3.gstatic.com/faviconV2?client=SOCIAL&type=FAVICON&fallback_opts=TYPE,SIZE,URL&url=http://127.0.0.1:5500/frontend/src/index.html&size=32 404 (Not Found)\n",
    "feedback.js:18 Feedback text: AAAAAAA\n",
    "feedback.js:19 Feedback text after trim: AAAAAAA\n",
    "feedback.js:36 Sending request to: http://localhost:3000/api/submit-feedback\n",
    "feedback.js:37 Request payload: \n",
    "{feedback: 'AAAAAAA'}\n",
    "feedback.js:39 \n",
    " \n",
    " POST http://localhost:3000/api/submit-feedback 400 (Bad Request)\n",
    "(anonymous)\t@\tfeedback.js:39\n",
    "feedback.js:48 Response status: 400\n",
    "feedback.js:51 Response data: \n",
    "{success: false, message: 'Feedback must be a non-empty string'}\n",
    "message\n",
    ": \n",
    "\"Feedback must be a non-empty string\"\n",
    "success\n",
    ": \n",
    "false\n",
    "[[Prototype]]\n",
    ": \n",
    "Object\n",
    "feedback.js:63 \n",
    " Chi tiết lỗi: Error: Feedback must be a non-empty string\n",
    "    at HTMLButtonElement.<anonymous> (feedback.js:54:23)\n",
    "﻿\n",
    "\n"
   ]
  },
  {
   "cell_type": "markdown",
   "metadata": {},
   "source": [
    "## 1.3 QUÊN KO BẬT BACKEND UPDATE: \n",
    "=> sau khi frontend build và chạy ngon, đến bước PING vào \n",
    "```bash\n",
    "curl --location 'http://localhost:3000/api/submit-feedback' \\\n",
    "--header 'Content-Type: application/json' \\\n",
    "--data '{\n",
    "    \"feedback\": \"This is a test feedback\"\n",
    "}'\n",
    "```\n",
    "cứ lỗi hoài => NGU NGỐC LẠI XÓA PHẦN feedback.js ở frontend đi chứ. \n",
    "\n",
    "------------\n",
    "Sau đó test backend ping mãi mãi mãi, mãi sau thử Ctrl C để tắt backend bật lại cổng 3000 thì được. \n",
    "\n",
    "\n",
    "```bash\n",
    "npm run dev\n",
    "```\n",
    "\n",
    "```bash\n",
    "npm start\n",
    "```\n"
   ]
  },
  {
   "cell_type": "markdown",
   "metadata": {},
   "source": [
    "# 1.4 -> TÁCH BACKEND, FRONTEND RA MÀ NÃ. "
   ]
  }
 ],
 "metadata": {
  "language_info": {
   "name": "python"
  }
 },
 "nbformat": 4,
 "nbformat_minor": 2
}
